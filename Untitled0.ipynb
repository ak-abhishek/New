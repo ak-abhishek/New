{
  "nbformat": 4,
  "nbformat_minor": 0,
  "metadata": {
    "colab": {
      "name": "Untitled0.ipynb",
      "version": "0.3.2",
      "provenance": [],
      "collapsed_sections": [],
      "include_colab_link": true
    },
    "kernelspec": {
      "name": "python3",
      "display_name": "Python 3"
    }
  },
  "cells": [
    {
      "cell_type": "markdown",
      "metadata": {
        "id": "view-in-github",
        "colab_type": "text"
      },
      "source": [
        "<a href=\"https://colab.research.google.com/github/ak-abhishek/New/blob/master/Untitled0.ipynb\" target=\"_parent\"><img src=\"https://colab.research.google.com/assets/colab-badge.svg\" alt=\"Open In Colab\"/></a>"
      ]
    },
    {
      "cell_type": "code",
      "metadata": {
        "id": "dQATqxKMFwnW",
        "colab_type": "code",
        "outputId": "ac722cfc-f23e-445b-ff49-2ed886c11856",
        "colab": {
          "base_uri": "https://localhost:8080/",
          "height": 69
        }
      },
      "source": [
        "\n",
        "import numpy as np\n",
        "array = np.linspace(0,10,5);\n",
        "print(array)\n",
        "array\n",
        "\n",
        "array1 = np.arange(20)\n",
        "print(array1)\n",
        "array1\n",
        "\n",
        "\n",
        "arrayy = [1,2 ,3,[4,5,6]]\n",
        "arrayy\n",
        "\n",
        "array.shape\n",
        "array1.shape"
      ],
      "execution_count": 0,
      "outputs": [
        {
          "output_type": "stream",
          "text": [
            "[ 0.   2.5  5.   7.5 10. ]\n",
            "[ 0  1  2  3  4  5  6  7  8  9 10 11 12 13 14 15 16 17 18 19]\n"
          ],
          "name": "stdout"
        },
        {
          "output_type": "execute_result",
          "data": {
            "text/plain": [
              "(20,)"
            ]
          },
          "metadata": {
            "tags": []
          },
          "execution_count": 26
        }
      ]
    },
    {
      "cell_type": "code",
      "metadata": {
        "id": "Y-dzLsfcLu52",
        "colab_type": "code",
        "outputId": "722503f5-8cb2-4cd5-89ed-a4bf3372257a",
        "colab": {
          "base_uri": "https://localhost:8080/",
          "height": 35
        }
      },
      "source": [
        "sum = 0;\n",
        "for i in array:\n",
        "  sum = sum +i;\n",
        "print(sum)\n"
      ],
      "execution_count": 0,
      "outputs": [
        {
          "output_type": "stream",
          "text": [
            "25.0\n"
          ],
          "name": "stdout"
        }
      ]
    },
    {
      "cell_type": "code",
      "metadata": {
        "id": "lWwpdAEuGWhF",
        "colab_type": "code",
        "outputId": "bc933592-588a-4255-ae99-38f14456a357",
        "colab": {
          "base_uri": "https://localhost:8080/",
          "height": 35
        }
      },
      "source": [
        "a = np.array([[1,2],[1,2]])\n",
        "a.shape"
      ],
      "execution_count": 0,
      "outputs": [
        {
          "output_type": "execute_result",
          "data": {
            "text/plain": [
              "(2, 2)"
            ]
          },
          "metadata": {
            "tags": []
          },
          "execution_count": 23
        }
      ]
    },
    {
      "cell_type": "code",
      "metadata": {
        "id": "zl9uGPLRMZkv",
        "colab_type": "code",
        "outputId": "365fbb2d-8fab-4ad2-98c6-0d1891c3f39c",
        "colab": {
          "base_uri": "https://localhost:8080/",
          "height": 87
        }
      },
      "source": [
        "a.reshape((4, 1))\n"
      ],
      "execution_count": 0,
      "outputs": [
        {
          "output_type": "execute_result",
          "data": {
            "text/plain": [
              "array([[1],\n",
              "       [2],\n",
              "       [1],\n",
              "       [2]])"
            ]
          },
          "metadata": {
            "tags": []
          },
          "execution_count": 30
        }
      ]
    },
    {
      "cell_type": "code",
      "metadata": {
        "id": "snEasHUVM35v",
        "colab_type": "code",
        "outputId": "1f57077c-f483-42cf-c025-89cc692378eb",
        "colab": {
          "base_uri": "https://localhost:8080/",
          "height": 275
        }
      },
      "source": [
        "%matplotlib inline\n",
        "import matplotlib.pyplot as plt\n",
        "rand = np.random.RandomState(42)\n",
        "import seaborn; seaborn.set()  # for plot styling\n",
        "mean = [0, 0]\n",
        "cov = [[1, 2],\n",
        "       [2, 5]]\n",
        "X = rand.multivariate_normal(mean, cov, 100)\n",
        "X.shape\n",
        "\n",
        "plt.scatter(X[:, 0], X[:, 1]);"
      ],
      "execution_count": 0,
      "outputs": [
        {
          "output_type": "display_data",
          "data": {
            "image/png": "[encoded data removed]",
            "text/plain": [
              "<Figure size 432x288 with 1 Axes>"
            ]
          },
          "metadata": {
            "tags": []
          }
        }
      ]
    },
    {
      "cell_type": "code",
      "metadata": {
        "id": "IIpVirB2NfvR",
        "colab_type": "code",
        "outputId": "7af8734a-484a-406e-b918-aa7c677019f5",
        "colab": {
          "base_uri": "https://localhost:8080/",
          "height": 35
        }
      },
      "source": [
        "#remove elements which are multiple of 5 with -1\n",
        "a = [1,5,10,4,15,20,7,35];\n",
        "a\n",
        "c=0\n",
        "for i in a:\n",
        "  if i%5==0:\n",
        "    a[c] = -1;\n",
        "  c=c+1;   \n",
        "a"
      ],
      "execution_count": 0,
      "outputs": [
        {
          "output_type": "execute_result",
          "data": {
            "text/plain": [
              "[1, -1, -1, 4, -1, -1, 7, -1]"
            ]
          },
          "metadata": {
            "tags": []
          },
          "execution_count": 48
        }
      ]
    },
    {
      "cell_type": "code",
      "metadata": {
        "id": "XSMqX1OERSqn",
        "colab_type": "code",
        "outputId": "624f5ca3-86ab-4374-def6-2ad6d232b0b7",
        "colab": {
          "base_uri": "https://localhost:8080/",
          "height": 104
        }
      },
      "source": [
        "print(np.array([1, 2, 3, 4], ndmin=2))\n",
        "print(np.ravel(a,'F' ))\n",
        "print(np.ravel(a,'A' ))\n",
        "print(np.ravel(a,'C' ))\n",
        "print(np.ravel(a,'K' ))"
      ],
      "execution_count": 0,
      "outputs": [
        {
          "output_type": "stream",
          "text": [
            "[[1 2 3 4]]\n",
            "[1 2 3 4]\n",
            "[1 2 3 4]\n",
            "[1 2 3 4]\n",
            "[1 2 3 4]\n"
          ],
          "name": "stdout"
        }
      ]
    },
    {
      "cell_type": "code",
      "metadata": {
        "id": "YKjzKYh0TJgm",
        "colab_type": "code",
        "outputId": "ddc81a12-555a-4f9c-f20e-fd533d336fe7",
        "colab": {
          "base_uri": "https://localhost:8080/",
          "height": 35
        }
      },
      "source": [
        "#Remove the elements from one array which is fpresent in another array\n",
        "a = np.array([1, 2, 3, 4, 5]) \n",
        "\n",
        "b = np.array([5, 6, 3, 1, 4])\n",
        "\n",
        "\n",
        "result = [i for i in a if i not in b]\n",
        "    \n",
        "result\n"
      ],
      "execution_count": 0,
      "outputs": [
        {
          "output_type": "execute_result",
          "data": {
            "text/plain": [
              "[2]"
            ]
          },
          "metadata": {
            "tags": []
          },
          "execution_count": 74
        }
      ]
    },
    {
      "cell_type": "code",
      "metadata": {
        "id": "blT_JxYx7X9i",
        "colab_type": "code",
        "colab": {}
      },
      "source": [
        ""
      ],
      "execution_count": 0,
      "outputs": []
    },
    {
      "cell_type": "code",
      "metadata": {
        "id": "5uKAqz7UZMBK",
        "colab_type": "code",
        "outputId": "06845b11-0030-4f41-85c9-c1c8cd279228",
        "colab": {
          "base_uri": "https://localhost:8080/",
          "height": 468
        }
      },
      "source": [
        "#convert the Series data into a dDictionary Object\n",
        "import pandas as pd\n",
        "ser1 = pd.Series(list('abcedfghijklmnopqrstuvwxyz')) \n",
        "ser2 = pd.Series(np.arange(26))\n",
        "result = dict(zip(ser1, ser2))\n",
        "\n",
        "result"
      ],
      "execution_count": 0,
      "outputs": [
        {
          "output_type": "execute_result",
          "data": {
            "text/plain": [
              "{'a': 0,\n",
              " 'b': 1,\n",
              " 'c': 2,\n",
              " 'd': 4,\n",
              " 'e': 3,\n",
              " 'f': 5,\n",
              " 'g': 6,\n",
              " 'h': 7,\n",
              " 'i': 8,\n",
              " 'j': 9,\n",
              " 'k': 10,\n",
              " 'l': 11,\n",
              " 'm': 12,\n",
              " 'n': 13,\n",
              " 'o': 14,\n",
              " 'p': 15,\n",
              " 'q': 16,\n",
              " 'r': 17,\n",
              " 's': 18,\n",
              " 't': 19,\n",
              " 'u': 20,\n",
              " 'v': 21,\n",
              " 'w': 22,\n",
              " 'x': 23,\n",
              " 'y': 24,\n",
              " 'z': 25}"
            ]
          },
          "metadata": {
            "tags": []
          },
          "execution_count": 77
        }
      ]
    },
    {
      "cell_type": "code",
      "metadata": {
        "id": "y8-lsq2ccHrv",
        "colab_type": "code",
        "outputId": "05b1a24f-04a2-4672-c6f3-27743a2e1c5e",
        "colab": {
          "base_uri": "https://localhost:8080/",
          "height": 35
        }
      },
      "source": [
        "\n",
        "#minimum of 3 numbers\n",
        "def min(a,b,c):\n",
        "  if(a<b & a<c):\n",
        "    return a\n",
        "  elif(b<a & b<c):\n",
        "    return b\n",
        "  else:\n",
        "    return c\n",
        "a = 2\n",
        "b = 3\n",
        "c = 4\n",
        "  \n",
        "print(min(a,b,c))"
      ],
      "execution_count": 0,
      "outputs": [
        {
          "output_type": "stream",
          "text": [
            "4\n"
          ],
          "name": "stdout"
        }
      ]
    },
    {
      "cell_type": "code",
      "metadata": {
        "id": "DeD5WMDGdmRR",
        "colab_type": "code",
        "outputId": "c884b8c1-7995-4e3c-a1c8-e5f3f56c2a18",
        "colab": {
          "base_uri": "https://localhost:8080/",
          "height": 399
        }
      },
      "source": [
        "def prime(num):\n",
        "  n = int(num)\n",
        "  c=0\n",
        "  for i in range(1,n):\n",
        "\n",
        "    if(n%i ==0):\n",
        "      c  = c+1\n",
        " \n",
        "    \n",
        "  if(c==1):\n",
        "    print(n)\n",
        "    \n",
        "print(\"Prime List\")    \n",
        "for i in range(10,99):\n",
        "  prime(i)"
      ],
      "execution_count": 0,
      "outputs": [
        {
          "output_type": "stream",
          "text": [
            "Prime List\n",
            "11\n",
            "13\n",
            "17\n",
            "19\n",
            "23\n",
            "29\n",
            "31\n",
            "37\n",
            "41\n",
            "43\n",
            "47\n",
            "53\n",
            "59\n",
            "61\n",
            "67\n",
            "71\n",
            "73\n",
            "79\n",
            "83\n",
            "89\n",
            "97\n"
          ],
          "name": "stdout"
        }
      ]
    },
    {
      "cell_type": "code",
      "metadata": {
        "id": "drFgn5QOgzR1",
        "colab_type": "code",
        "outputId": "8873506e-abda-4c25-a900-243f9326f553",
        "colab": {
          "base_uri": "https://localhost:8080/",
          "height": 35
        }
      },
      "source": [
        "def palindrome(str):\n",
        "  str1 =\"\".join(reversed(str))\n",
        "  flag = 1;\n",
        "  for i in str:\n",
        "    for j in str1:\n",
        "      if str == str1:\n",
        "        continue;\n",
        "      else:\n",
        "        flag = 0\n",
        "        break;\n",
        "  if flag == 1:\n",
        "    print(\"palindrome\")\n",
        "  else:\n",
        "    print(\"Not palindrome\")\n",
        "    \n",
        "palindrome(\"ABBAABBA\")\n",
        "    "
      ],
      "execution_count": 0,
      "outputs": [
        {
          "output_type": "stream",
          "text": [
            "palindrome\n"
          ],
          "name": "stdout"
        }
      ]
    },
    {
      "cell_type": "code",
      "metadata": {
        "id": "X8QeAmOK7aAj",
        "colab_type": "code",
        "outputId": "dbaa7d14-33b0-4e68-b30b-f76bf29baee7",
        "colab": {
          "base_uri": "https://localhost:8080/",
          "height": 55
        }
      },
      "source": [
        "import keyword\n",
        "print(keyword.kwlist)\n"
      ],
      "execution_count": 0,
      "outputs": [
        {
          "output_type": "stream",
          "text": [
            "['False', 'None', 'True', 'and', 'as', 'assert', 'break', 'class', 'continue', 'def', 'del', 'elif', 'else', 'except', 'finally', 'for', 'from', 'global', 'if', 'import', 'in', 'is', 'lambda', 'nonlocal', 'not', 'or', 'pass', 'raise', 'return', 'try', 'while', 'with', 'yield']\n"
          ],
          "name": "stdout"
        }
      ]
    },
    {
      "cell_type": "code",
      "metadata": {
        "id": "v_49ltIg8JdP",
        "colab_type": "code",
        "outputId": "1f5a9c6d-f2b6-420b-ed85-2186efb0705d",
        "colab": {
          "base_uri": "https://localhost:8080/",
          "height": 121
        }
      },
      "source": [
        "#Quantiles of a series \n",
        "import pandas as pd\n",
        "import numpy as np\n",
        "a = pd.Series(np.random.normal(10, 5, 25))\n",
        "a\n",
        "df = pd.DataFrame(a)\n",
        "print(df.quantile(.25))\n",
        "print(df.quantile(.5))\n",
        "print(df.quantile(.75))"
      ],
      "execution_count": 0,
      "outputs": [
        {
          "output_type": "stream",
          "text": [
            "0    5.96194\n",
            "Name: 0.25, dtype: float64\n",
            "0    11.186997\n",
            "Name: 0.5, dtype: float64\n",
            "0    14.132933\n",
            "Name: 0.75, dtype: float64\n"
          ],
          "name": "stdout"
        }
      ]
    },
    {
      "cell_type": "code",
      "metadata": {
        "id": "mBfshVlL8-Uk",
        "colab_type": "code",
        "colab": {}
      },
      "source": [
        "a = pd.Series(np.random.randint(1, 10, 35))\n",
        "#print(a)\n",
        "#arr= pd.DataFrame(a, 3)\n"
      ],
      "execution_count": 0,
      "outputs": []
    },
    {
      "cell_type": "code",
      "metadata": {
        "id": "C0catnAC_Y7-",
        "colab_type": "code",
        "outputId": "2e863ac7-dfed-4e5c-be5f-e62fc2ef39c0",
        "colab": {
          "base_uri": "https://localhost:8080/",
          "height": 104
        }
      },
      "source": [
        "a={1, 3.4 , \"Abhishek\"}\n",
        "a\n",
        "b= (1, 2, 3,5,7)\n",
        "c= (b, a)\n",
        "d= {\"Abhishek\",\"Shukla\",\"is\",\"Great\",\"But\",\"being\",\"Great\",\"alone\"}\n",
        "e= {\"Abhishek\", \"needs\", \"to\",\"work\",\"hard\"}\n",
        "print(d-e)\n",
        "print(d | e)\n",
        "print(d & e)\n",
        "list = [[\"eid\",\"name\",\"age\"],[\"eid\"],[\"age\",\"percentile\"],[\"eid\",\"pid\"],[\"pid\",\"name\",\"designation\"]]\n",
        "str={'',' '}\n",
        "for i in list:\n",
        "  for j  in i:\n",
        "    str.add(j)\n",
        "print(list)\n",
        "print(str)\n",
        "#list1 = [[eid,name,age],[eid],[age,percentile],[eid,pid],[pid,name,designation]]\n"
      ],
      "execution_count": 0,
      "outputs": [
        {
          "output_type": "stream",
          "text": [
            "{'being', 'Great', 'is', 'But', 'alone', 'Shukla'}\n",
            "{'to', 'hard', 'being', 'work', 'Great', 'is', 'But', 'needs', 'alone', 'Shukla', 'Abhishek'}\n",
            "{'Abhishek'}\n",
            "[['eid', 'name', 'age'], ['eid'], ['age', 'percentile'], ['eid', 'pid'], ['pid', 'name', 'designation']]\n",
            "{'', 'age', 'eid', 'percentile', 'designation', ' ', 'pid', 'name'}\n"
          ],
          "name": "stdout"
        }
      ]
    },
    {
      "cell_type": "code",
      "metadata": {
        "id": "XoZDt0OqEIYH",
        "colab_type": "code",
        "outputId": "989d01ea-cee9-4e50-c531-ce22fcffe667",
        "colab": {
          "base_uri": "https://localhost:8080/",
          "height": 35
        }
      },
      "source": [
        "#identity operator\n",
        "s1 =\"Abhishek\"\n",
        "s2 = 'abhishek'\n",
        "\n",
        "s1 is s2\n"
      ],
      "execution_count": 0,
      "outputs": [
        {
          "output_type": "execute_result",
          "data": {
            "text/plain": [
              "False"
            ]
          },
          "metadata": {
            "tags": []
          },
          "execution_count": 30
        }
      ]
    },
    {
      "cell_type": "code",
      "metadata": {
        "id": "GuxpWqwhEU7x",
        "colab_type": "code",
        "outputId": "afbd1f42-9b20-4a4f-c268-97bc4a9e601e",
        "colab": {
          "base_uri": "https://localhost:8080/",
          "height": 35
        }
      },
      "source": [
        "#Dictionary\n",
        "d ={1:\"a\",22:\"d\"}\n",
        "d[22]"
      ],
      "execution_count": 0,
      "outputs": [
        {
          "output_type": "execute_result",
          "data": {
            "text/plain": [
              "'d'"
            ]
          },
          "metadata": {
            "tags": []
          },
          "execution_count": 31
        }
      ]
    },
    {
      "cell_type": "code",
      "metadata": {
        "id": "3PDyOQztEl3V",
        "colab_type": "code",
        "outputId": "21424965-ccdd-4bb2-e32e-b04ff9db816e",
        "colab": {
          "base_uri": "https://localhost:8080/",
          "height": 35
        }
      },
      "source": [
        "def smallest():\n",
        "  a,b,c =12, 13, 15\n",
        "  if(a<b and a<c):\n",
        "    print( a)\n",
        "  elif(b<c and b<a):\n",
        "    print( b)\n",
        "  else:\n",
        "    print (c)\n",
        "    \n",
        "smallest()"
      ],
      "execution_count": 0,
      "outputs": [
        {
          "output_type": "stream",
          "text": [
            "12\n"
          ],
          "name": "stdout"
        }
      ]
    },
    {
      "cell_type": "code",
      "metadata": {
        "id": "_dpy94jjiMIo",
        "colab_type": "code",
        "outputId": "64e9e289-0af0-4c25-e080-769911b6bd08",
        "colab": {
          "base_uri": "https://localhost:8080/",
          "height": 52
        }
      },
      "source": [
        "list = [1,2,3,4, 5, 6]\n",
        "product = 1\n",
        "a=0\n",
        "while a < len(list):\n",
        "  #print (\"entered\")\n",
        "  product =product * list[a]\n",
        "  a = a+1\n",
        "else:\n",
        "  print(product)\n",
        "sum =1  \n",
        "\n",
        "for  i in list:\n",
        "  sum = i+sum\n",
        "\n",
        "print(sum)\n",
        "\n",
        "\n",
        "\n"
      ],
      "execution_count": 0,
      "outputs": [
        {
          "output_type": "stream",
          "text": [
            "720\n",
            "22\n"
          ],
          "name": "stdout"
        }
      ]
    },
    {
      "cell_type": "code",
      "metadata": {
        "id": "jd74ZfFfG1Et",
        "colab_type": "code",
        "colab": {}
      },
      "source": [
        "\n",
        "\n",
        "def prime():\n",
        "  upper,lower = 400, 100\n",
        "  for i in range (lower, upper+1):\n",
        "    #print(i)\n",
        "    for j in range(2,i//2+1):\n",
        "      if(i%j == 0 ):\n",
        "        flag =0\n",
        "        continue;\n",
        "\n",
        "prime()\n"
      ],
      "execution_count": 0,
      "outputs": []
    },
    {
      "cell_type": "code",
      "metadata": {
        "id": "oNcKZnmaJzBN",
        "colab_type": "code",
        "outputId": "1926d481-969e-44ea-b9d7-1f1f72069d74",
        "colab": {
          "base_uri": "https://localhost:8080/",
          "height": 87
        }
      },
      "source": [
        "list = [1,2,34,56]\n",
        "list1 = [3,4]\n",
        "list.append(list1)\n",
        "print(list)\n",
        "\n",
        "t = (1, 2.3 , [2, 5 , \"Abhishek\"])\n",
        "print(t)\n",
        "t[2][1] = 8\n",
        "print(t)\n",
        "\n",
        "\n",
        "my_dict ={\"name\": \"Abhishek\", \"Scores\":[100,259,156]}\n",
        "my_dict.get(\"Scores\")\n",
        "my_dict.pop(\"name\")\n",
        "\n",
        "\n",
        "\n"
      ],
      "execution_count": 0,
      "outputs": [
        {
          "output_type": "stream",
          "text": [
            "[1, 2, 34, 56, [3, 4]]\n",
            "(1, 2.3, [2, 5, 'Abhishek'])\n",
            "(1, 2.3, [2, 8, 'Abhishek'])\n"
          ],
          "name": "stdout"
        },
        {
          "output_type": "execute_result",
          "data": {
            "text/plain": [
              "'Abhishek'"
            ]
          },
          "metadata": {
            "tags": []
          },
          "execution_count": 67
        }
      ]
    },
    {
      "cell_type": "code",
      "metadata": {
        "id": "D5Z2SNH_LqbV",
        "colab_type": "code",
        "outputId": "981f8177-ac0d-48b0-8095-c392e3f89997",
        "colab": {
          "base_uri": "https://localhost:8080/",
          "height": 35
        }
      },
      "source": [
        "def fibonacci(n):\n",
        "  if(n!=1 and n!=0):\n",
        "    return fibonacci(n-1) + fibonacci(n-2)\n",
        "  else:\n",
        "    return(1) \n",
        "  \n",
        "list=[]\n",
        "\n",
        "for i in range(1,7):\n",
        "  N = fibonacci(i)\n",
        "  list.append(N);\n",
        "list"
      ],
      "execution_count": 0,
      "outputs": [
        {
          "output_type": "execute_result",
          "data": {
            "text/plain": [
              "[1, 2, 3, 5, 8, 13]"
            ]
          },
          "metadata": {
            "tags": []
          },
          "execution_count": 77
        }
      ]
    },
    {
      "cell_type": "code",
      "metadata": {
        "id": "yMegUfm0SBym",
        "colab_type": "code",
        "outputId": "ca9dfd40-52b8-49d7-df4e-13db857ee592",
        "colab": {
          "base_uri": "https://localhost:8080/",
          "height": 87
        }
      },
      "source": [
        "\n",
        "series = pd.Series(['how', 'to', 'kick', 'ass?'])\n",
        "sum = 0;\n",
        "for i in series:\n",
        "  print(i)"
      ],
      "execution_count": 0,
      "outputs": [
        {
          "output_type": "stream",
          "text": [
            "how\n",
            "to\n",
            "kick\n",
            "ass?\n"
          ],
          "name": "stdout"
        }
      ]
    },
    {
      "cell_type": "code",
      "metadata": {
        "id": "MuYEjcEuTNAo",
        "colab_type": "code",
        "outputId": "0d4a941c-a583-45a6-ec87-92e873cbb394",
        "colab": {
          "base_uri": "https://localhost:8080/",
          "height": 69
        }
      },
      "source": [
        "import numpy as np\n",
        "from scipy import stats\n",
        "\n",
        "ages= [12,23,13,1,4,12,4, 34]\n",
        "\n",
        "print(np.mean(ages))\n",
        "print(np.median(ages))\n",
        "print(stats.mode(ages).mode)"
      ],
      "execution_count": 0,
      "outputs": [
        {
          "output_type": "stream",
          "text": [
            "12.875\n",
            "12.0\n",
            "[4]\n"
          ],
          "name": "stdout"
        }
      ]
    },
    {
      "cell_type": "code",
      "metadata": {
        "id": "bRL4HgiSWXPU",
        "colab_type": "code",
        "outputId": "c78e661a-9c01-4696-82b6-0fe878e5649a",
        "colab": {
          "base_uri": "https://localhost:8080/",
          "height": 208
        }
      },
      "source": [
        "x=np.mean(ages)\n",
        "std =np.std(ages)\n",
        "var =np.var(ages)\n",
        "print(var)\n",
        "print(np.std(ages))\n",
        "print(\"Deviation\")\n",
        "for i in ages :\n",
        "  print(i-x)\n",
        " \n"
      ],
      "execution_count": 0,
      "outputs": [
        {
          "output_type": "stream",
          "text": [
            "106.109375\n",
            "10.300940491042553\n",
            "Deviation\n",
            "-0.875\n",
            "10.125\n",
            "0.125\n",
            "-11.875\n",
            "-8.875\n",
            "-0.875\n",
            "-8.875\n",
            "21.125\n"
          ],
          "name": "stdout"
        }
      ]
    },
    {
      "cell_type": "code",
      "metadata": {
        "id": "_p_m2soYYqR5",
        "colab_type": "code",
        "outputId": "06200e4b-78f7-4e05-e688-e9a5fa1cb87c",
        "colab": {
          "base_uri": "https://localhost:8080/",
          "height": 202
        }
      },
      "source": [
        "import seaborn as sns\n",
        "iris = sns.load_dataset(\"iris\")\n",
        "iris.head()"
      ],
      "execution_count": 0,
      "outputs": [
        {
          "output_type": "execute_result",
          "data": {
            "text/html": [
              "<div>\n",
              "<style scoped>\n",
              "    .dataframe tbody tr th:only-of-type {\n",
              "        vertical-align: middle;\n",
              "    }\n",
              "\n",
              "    .dataframe tbody tr th {\n",
              "        vertical-align: top;\n",
              "    }\n",
              "\n",
              "    .dataframe thead th {\n",
              "        text-align: right;\n",
              "    }\n",
              "</style>\n",
              "<table border=\"1\" class=\"dataframe\">\n",
              "  <thead>\n",
              "    <tr style=\"text-align: right;\">\n",
              "      <th></th>\n",
              "      <th>sepal_length</th>\n",
              "      <th>sepal_width</th>\n",
              "      <th>petal_length</th>\n",
              "      <th>petal_width</th>\n",
              "      <th>species</th>\n",
              "    </tr>\n",
              "  </thead>\n",
              "  <tbody>\n",
              "    <tr>\n",
              "      <th>0</th>\n",
              "      <td>5.1</td>\n",
              "      <td>3.5</td>\n",
              "      <td>1.4</td>\n",
              "      <td>0.2</td>\n",
              "      <td>setosa</td>\n",
              "    </tr>\n",
              "    <tr>\n",
              "      <th>1</th>\n",
              "      <td>4.9</td>\n",
              "      <td>3.0</td>\n",
              "      <td>1.4</td>\n",
              "      <td>0.2</td>\n",
              "      <td>setosa</td>\n",
              "    </tr>\n",
              "    <tr>\n",
              "      <th>2</th>\n",
              "      <td>4.7</td>\n",
              "      <td>3.2</td>\n",
              "      <td>1.3</td>\n",
              "      <td>0.2</td>\n",
              "      <td>setosa</td>\n",
              "    </tr>\n",
              "    <tr>\n",
              "      <th>3</th>\n",
              "      <td>4.6</td>\n",
              "      <td>3.1</td>\n",
              "      <td>1.5</td>\n",
              "      <td>0.2</td>\n",
              "      <td>setosa</td>\n",
              "    </tr>\n",
              "    <tr>\n",
              "      <th>4</th>\n",
              "      <td>5.0</td>\n",
              "      <td>3.6</td>\n",
              "      <td>1.4</td>\n",
              "      <td>0.2</td>\n",
              "      <td>setosa</td>\n",
              "    </tr>\n",
              "  </tbody>\n",
              "</table>\n",
              "</div>"
            ],
            "text/plain": [
              "   sepal_length  sepal_width  petal_length  petal_width species\n",
              "0           5.1          3.5           1.4          0.2  setosa\n",
              "1           4.9          3.0           1.4          0.2  setosa\n",
              "2           4.7          3.2           1.3          0.2  setosa\n",
              "3           4.6          3.1           1.5          0.2  setosa\n",
              "4           5.0          3.6           1.4          0.2  setosa"
            ]
          },
          "metadata": {
            "tags": []
          },
          "execution_count": 99
        }
      ]
    },
    {
      "cell_type": "code",
      "metadata": {
        "id": "LzibzgpjWtbs",
        "colab_type": "code",
        "outputId": "e43406b7-4492-418a-d414-195ed411d628",
        "colab": {
          "base_uri": "https://localhost:8080/",
          "height": 287
        }
      },
      "source": [
        "\n",
        "import matplotlib.pyplot as plt\n",
        "plt.hist(iris.sepal_length)\n",
        "import seaborn as sns\n",
        "\n"
      ],
      "execution_count": 0,
      "outputs": [
        {
          "output_type": "execute_result",
          "data": {
            "text/plain": [
              "<matplotlib.axes._subplots.AxesSubplot at 0x7fc2ed111160>"
            ]
          },
          "metadata": {
            "tags": []
          },
          "execution_count": 110
        },
        {
          "output_type": "display_data",
          "data": {
            "image/png": "[encoded data removed]",
            "text/plain": [
              "<Figure size 432x288 with 1 Axes>"
            ]
          },
          "metadata": {
            "tags": []
          }
        }
      ]
    },
    {
      "cell_type": "code",
      "metadata": {
        "id": "6NqJGPlob2h4",
        "colab_type": "code",
        "outputId": "4e86d398-484d-4016-9a77-55d855f5060f",
        "colab": {
          "base_uri": "https://localhost:8080/",
          "height": 287
        }
      },
      "source": [
        "data= np.random.normal(size=100)\n",
        "sns.distplot(data)\n",
        "\n",
        "data= np.random.exponential(size=100)\n",
        "sns.distplot(data)\n",
        "\n",
        "\n",
        "\n"
      ],
      "execution_count": 0,
      "outputs": [
        {
          "output_type": "execute_result",
          "data": {
            "text/plain": [
              "<matplotlib.axes._subplots.AxesSubplot at 0x7fc2ecf53f60>"
            ]
          },
          "metadata": {
            "tags": []
          },
          "execution_count": 113
        },
        {
          "output_type": "display_data",
          "data": {
            "image/png": "[encoded data removed]",
            "text/plain": [
              "<Figure size 432x288 with 1 Axes>"
            ]
          },
          "metadata": {
            "tags": []
          }
        }
      ]
    },
    {
      "cell_type": "code",
      "metadata": {
        "id": "D0x6sjFxcMZW",
        "colab_type": "code",
        "outputId": "f151ec3c-c3b7-4355-cd7e-23a7814b2426",
        "colab": {
          "base_uri": "https://localhost:8080/",
          "height": 35
        }
      },
      "source": [
        "#List Comprehension  --- Chi Square Analysis\n",
        "exp = np.array([30,12,34,41,37,28])\n",
        "obs = np.array([34,14,43,37,42,12])\n",
        "\n",
        "obs_expec_squared = [np.square(o-e)/e for o, e in zip(obs,exp)]\n",
        "\n",
        "np.sum(obs_expec_squared)"
      ],
      "execution_count": 0,
      "outputs": [
        {
          "output_type": "execute_result",
          "data": {
            "text/plain": [
              "13.457796328814979"
            ]
          },
          "metadata": {
            "tags": []
          },
          "execution_count": 120
        }
      ]
    },
    {
      "cell_type": "code",
      "metadata": {
        "id": "I3lXCTLqgl7R",
        "colab_type": "code",
        "outputId": "3fd4587a-d23d-4f91-d8b3-0d43c4f7fcb6",
        "colab": {
          "base_uri": "https://localhost:8080/",
          "height": 121
        }
      },
      "source": [
        "\n",
        "\n",
        "v = np.array([1,2,3])\n",
        "v2 = np.array([4,5,6])\n",
        "v3 = np.array([7,8,9])\n",
        "s= np.vstack((v,v2,v3))\n",
        "print(s)\n",
        "v=v.reshape(1,3)\n",
        "print(s*v)"
      ],
      "execution_count": 0,
      "outputs": [
        {
          "output_type": "stream",
          "text": [
            "[[1 2 3]\n",
            " [4 5 6]\n",
            " [7 8 9]]\n",
            "[[ 1  4  9]\n",
            " [ 4 10 18]\n",
            " [ 7 16 27]]\n"
          ],
          "name": "stdout"
        }
      ]
    }
  ]
}